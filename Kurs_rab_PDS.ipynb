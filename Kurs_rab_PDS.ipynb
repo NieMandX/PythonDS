{
 "cells": [
  {
   "cell_type": "markdown",
   "metadata": {},
   "source": [
    "### PYTHON ДЛЯ DATA SCIENCE\n",
    "###### ** КУРСОВАЯ РАБОТА.** АКИМОВ Я.В. **ИИ-181**\n",
    "---\n",
    "<br>\n",
    "<br>\n",
    "<br>"
   ]
  },
  {
   "cell_type": "markdown",
   "metadata": {},
   "source": [
    "#### I. РАБОТА С ДАННЫМИ"
   ]
  },
  {
   "cell_type": "markdown",
   "metadata": {},
   "source": [
    "##### **ЗНАКОМСТВО С ДАТАСЕТОМ, КОРРЕКЦИЯ ВЫБРОСОВ.**\n",
    "<br>"
   ]
  },
  {
   "cell_type": "code",
   "execution_count": 1,
   "metadata": {},
   "outputs": [],
   "source": [
    "import numpy as np\n",
    "import pandas as pd\n",
    "\n",
    "from matplotlib import pyplot as plt\n",
    "from matplotlib import rcParams\n",
    "import seaborn as sns\n",
    "\n",
    "%matplotlib inline"
   ]
  },
  {
   "cell_type": "code",
   "execution_count": 2,
   "metadata": {},
   "outputs": [],
   "source": [
    "df = pd.read_csv('train.csv')\n",
    "test = pd.read_csv('test.csv')"
   ]
  },
  {
   "cell_type": "code",
   "execution_count": 3,
   "metadata": {},
   "outputs": [],
   "source": [
    "alldata = pd.concat([df, test], sort = False, ignore_index = True)"
   ]
  },
  {
   "cell_type": "code",
   "execution_count": 4,
   "metadata": {},
   "outputs": [
    {
     "data": {
      "text/html": [
       "<div>\n",
       "<style scoped>\n",
       "    .dataframe tbody tr th:only-of-type {\n",
       "        vertical-align: middle;\n",
       "    }\n",
       "\n",
       "    .dataframe tbody tr th {\n",
       "        vertical-align: top;\n",
       "    }\n",
       "\n",
       "    .dataframe thead th {\n",
       "        text-align: right;\n",
       "    }\n",
       "</style>\n",
       "<table border=\"1\" class=\"dataframe\">\n",
       "  <thead>\n",
       "    <tr style=\"text-align: right;\">\n",
       "      <th></th>\n",
       "      <th>mean</th>\n",
       "      <th>std</th>\n",
       "    </tr>\n",
       "    <tr>\n",
       "      <th>Rooms</th>\n",
       "      <th></th>\n",
       "      <th></th>\n",
       "    </tr>\n",
       "  </thead>\n",
       "  <tbody>\n",
       "    <tr>\n",
       "      <th>0.0</th>\n",
       "      <td>92.940802</td>\n",
       "      <td>63.340563</td>\n",
       "    </tr>\n",
       "    <tr>\n",
       "      <th>1.0</th>\n",
       "      <td>41.325571</td>\n",
       "      <td>9.524270</td>\n",
       "    </tr>\n",
       "    <tr>\n",
       "      <th>2.0</th>\n",
       "      <td>56.519501</td>\n",
       "      <td>10.834056</td>\n",
       "    </tr>\n",
       "    <tr>\n",
       "      <th>3.0</th>\n",
       "      <td>77.023390</td>\n",
       "      <td>15.479314</td>\n",
       "    </tr>\n",
       "    <tr>\n",
       "      <th>4.0</th>\n",
       "      <td>98.377544</td>\n",
       "      <td>23.819556</td>\n",
       "    </tr>\n",
       "    <tr>\n",
       "      <th>5.0</th>\n",
       "      <td>113.613157</td>\n",
       "      <td>40.174086</td>\n",
       "    </tr>\n",
       "    <tr>\n",
       "      <th>6.0</th>\n",
       "      <td>59.414334</td>\n",
       "      <td>NaN</td>\n",
       "    </tr>\n",
       "    <tr>\n",
       "      <th>10.0</th>\n",
       "      <td>59.964120</td>\n",
       "      <td>1.282897</td>\n",
       "    </tr>\n",
       "    <tr>\n",
       "      <th>19.0</th>\n",
       "      <td>42.006046</td>\n",
       "      <td>NaN</td>\n",
       "    </tr>\n",
       "  </tbody>\n",
       "</table>\n",
       "</div>"
      ],
      "text/plain": [
       "             mean        std\n",
       "Rooms                       \n",
       "0.0     92.940802  63.340563\n",
       "1.0     41.325571   9.524270\n",
       "2.0     56.519501  10.834056\n",
       "3.0     77.023390  15.479314\n",
       "4.0     98.377544  23.819556\n",
       "5.0    113.613157  40.174086\n",
       "6.0     59.414334        NaN\n",
       "10.0    59.964120   1.282897\n",
       "19.0    42.006046        NaN"
      ]
     },
     "execution_count": 4,
     "metadata": {},
     "output_type": "execute_result"
    }
   ],
   "source": [
    "df.loc[(df.Square > 18) & (df.Square < 250)].groupby('Rooms')['Square'].agg(['mean', 'std'])"
   ]
  },
  {
   "cell_type": "code",
   "execution_count": 5,
   "metadata": {},
   "outputs": [
    {
     "data": {
      "text/html": [
       "<div>\n",
       "<style scoped>\n",
       "    .dataframe tbody tr th:only-of-type {\n",
       "        vertical-align: middle;\n",
       "    }\n",
       "\n",
       "    .dataframe tbody tr th {\n",
       "        vertical-align: top;\n",
       "    }\n",
       "\n",
       "    .dataframe thead th {\n",
       "        text-align: right;\n",
       "    }\n",
       "</style>\n",
       "<table border=\"1\" class=\"dataframe\">\n",
       "  <thead>\n",
       "    <tr style=\"text-align: right;\">\n",
       "      <th></th>\n",
       "      <th>Id</th>\n",
       "      <th>DistrictId</th>\n",
       "      <th>Rooms</th>\n",
       "      <th>Square</th>\n",
       "      <th>LifeSquare</th>\n",
       "      <th>KitchenSquare</th>\n",
       "      <th>Floor</th>\n",
       "      <th>HouseFloor</th>\n",
       "      <th>HouseYear</th>\n",
       "      <th>Ecology_1</th>\n",
       "      <th>Ecology_2</th>\n",
       "      <th>Ecology_3</th>\n",
       "      <th>Social_1</th>\n",
       "      <th>Social_2</th>\n",
       "      <th>Social_3</th>\n",
       "      <th>Healthcare_1</th>\n",
       "      <th>Helthcare_2</th>\n",
       "      <th>Shops_1</th>\n",
       "      <th>Shops_2</th>\n",
       "      <th>Price</th>\n",
       "    </tr>\n",
       "  </thead>\n",
       "  <tbody>\n",
       "    <tr>\n",
       "      <th>0</th>\n",
       "      <td>14038</td>\n",
       "      <td>35</td>\n",
       "      <td>2.0</td>\n",
       "      <td>47.981561</td>\n",
       "      <td>29.442751</td>\n",
       "      <td>6.0</td>\n",
       "      <td>7</td>\n",
       "      <td>9.0</td>\n",
       "      <td>1969</td>\n",
       "      <td>0.089040</td>\n",
       "      <td>B</td>\n",
       "      <td>B</td>\n",
       "      <td>33</td>\n",
       "      <td>7976</td>\n",
       "      <td>5</td>\n",
       "      <td>NaN</td>\n",
       "      <td>0</td>\n",
       "      <td>11</td>\n",
       "      <td>B</td>\n",
       "      <td>184966.930730</td>\n",
       "    </tr>\n",
       "    <tr>\n",
       "      <th>1</th>\n",
       "      <td>15053</td>\n",
       "      <td>41</td>\n",
       "      <td>3.0</td>\n",
       "      <td>65.683640</td>\n",
       "      <td>40.049543</td>\n",
       "      <td>8.0</td>\n",
       "      <td>7</td>\n",
       "      <td>9.0</td>\n",
       "      <td>1978</td>\n",
       "      <td>0.000070</td>\n",
       "      <td>B</td>\n",
       "      <td>B</td>\n",
       "      <td>46</td>\n",
       "      <td>10309</td>\n",
       "      <td>1</td>\n",
       "      <td>240.0</td>\n",
       "      <td>1</td>\n",
       "      <td>16</td>\n",
       "      <td>B</td>\n",
       "      <td>300009.450063</td>\n",
       "    </tr>\n",
       "    <tr>\n",
       "      <th>2</th>\n",
       "      <td>4765</td>\n",
       "      <td>53</td>\n",
       "      <td>2.0</td>\n",
       "      <td>44.947953</td>\n",
       "      <td>29.197612</td>\n",
       "      <td>0.0</td>\n",
       "      <td>8</td>\n",
       "      <td>12.0</td>\n",
       "      <td>1968</td>\n",
       "      <td>0.049637</td>\n",
       "      <td>B</td>\n",
       "      <td>B</td>\n",
       "      <td>34</td>\n",
       "      <td>7759</td>\n",
       "      <td>0</td>\n",
       "      <td>229.0</td>\n",
       "      <td>1</td>\n",
       "      <td>3</td>\n",
       "      <td>B</td>\n",
       "      <td>220925.908524</td>\n",
       "    </tr>\n",
       "    <tr>\n",
       "      <th>3</th>\n",
       "      <td>5809</td>\n",
       "      <td>58</td>\n",
       "      <td>2.0</td>\n",
       "      <td>53.352981</td>\n",
       "      <td>52.731512</td>\n",
       "      <td>9.0</td>\n",
       "      <td>8</td>\n",
       "      <td>17.0</td>\n",
       "      <td>1977</td>\n",
       "      <td>0.437885</td>\n",
       "      <td>B</td>\n",
       "      <td>B</td>\n",
       "      <td>23</td>\n",
       "      <td>5735</td>\n",
       "      <td>3</td>\n",
       "      <td>1084.0</td>\n",
       "      <td>0</td>\n",
       "      <td>5</td>\n",
       "      <td>B</td>\n",
       "      <td>175616.227217</td>\n",
       "    </tr>\n",
       "    <tr>\n",
       "      <th>4</th>\n",
       "      <td>10783</td>\n",
       "      <td>99</td>\n",
       "      <td>1.0</td>\n",
       "      <td>39.649192</td>\n",
       "      <td>23.776169</td>\n",
       "      <td>7.0</td>\n",
       "      <td>11</td>\n",
       "      <td>12.0</td>\n",
       "      <td>1976</td>\n",
       "      <td>0.012339</td>\n",
       "      <td>B</td>\n",
       "      <td>B</td>\n",
       "      <td>35</td>\n",
       "      <td>5776</td>\n",
       "      <td>1</td>\n",
       "      <td>2078.0</td>\n",
       "      <td>2</td>\n",
       "      <td>4</td>\n",
       "      <td>B</td>\n",
       "      <td>150226.531644</td>\n",
       "    </tr>\n",
       "  </tbody>\n",
       "</table>\n",
       "</div>"
      ],
      "text/plain": [
       "      Id  DistrictId  Rooms     Square  LifeSquare  KitchenSquare  Floor  \\\n",
       "0  14038          35    2.0  47.981561   29.442751            6.0      7   \n",
       "1  15053          41    3.0  65.683640   40.049543            8.0      7   \n",
       "2   4765          53    2.0  44.947953   29.197612            0.0      8   \n",
       "3   5809          58    2.0  53.352981   52.731512            9.0      8   \n",
       "4  10783          99    1.0  39.649192   23.776169            7.0     11   \n",
       "\n",
       "   HouseFloor  HouseYear  Ecology_1 Ecology_2 Ecology_3  Social_1  Social_2  \\\n",
       "0         9.0       1969   0.089040         B         B        33      7976   \n",
       "1         9.0       1978   0.000070         B         B        46     10309   \n",
       "2        12.0       1968   0.049637         B         B        34      7759   \n",
       "3        17.0       1977   0.437885         B         B        23      5735   \n",
       "4        12.0       1976   0.012339         B         B        35      5776   \n",
       "\n",
       "   Social_3  Healthcare_1  Helthcare_2  Shops_1 Shops_2          Price  \n",
       "0         5           NaN            0       11       B  184966.930730  \n",
       "1         1         240.0            1       16       B  300009.450063  \n",
       "2         0         229.0            1        3       B  220925.908524  \n",
       "3         3        1084.0            0        5       B  175616.227217  \n",
       "4         1        2078.0            2        4       B  150226.531644  "
      ]
     },
     "execution_count": 5,
     "metadata": {},
     "output_type": "execute_result"
    }
   ],
   "source": [
    "alldata.loc[(alldata.Square) > 50 | (alldata.Square < 70)].head()"
   ]
  },
  {
   "cell_type": "code",
   "execution_count": 6,
   "metadata": {},
   "outputs": [],
   "source": [
    "alldata.loc[alldata.Id.isin([11602]), ['Square', 'LifeSquare']] = 41,38\n",
    "alldata.loc[alldata.Id.isin([2307]), ['Square', 'LifeSquare']] = 41, 29\n",
    "alldata.loc[(alldata.Square < alldata.LifeSquare), ['Square', 'LifeSquare']] = alldata[alldata.Square < alldata.LifeSquare][['LifeSquare', 'Square']].values\n",
    "alldata.loc[alldata.Id == 16550, ['Square', 'LifeSquare']] = alldata.loc[alldata.Id == 16550, ['LifeSquare', 'Square']].values\n",
    "alldata.loc[alldata.Id == 11533, ['Square', 'LifeSquare']] = 48, 33\n",
    "alldata.loc[alldata.Id == 15886, ['Square', 'LifeSquare']] = 78, 61\n",
    "alldata.loc[alldata.Id == 14990, ['Square', 'LifeSquare']] = 63, 48\n",
    "alldata.loc[alldata.Id == 28, ['Square', 'LifeSquare']] = 60, 40\n",
    "alldata.loc[alldata.Id == 7917, ['Rooms']] = 6\n",
    "alldata.loc[(alldata.Rooms < 1) | (alldata.Rooms > 5), 'Rooms'] = 1, 5, 1, 6, 1, 1, 2, 2, 2, 1, 3, 1, 6, 6, 2, 6, 1"
   ]
  },
  {
   "cell_type": "code",
   "execution_count": 7,
   "metadata": {},
   "outputs": [],
   "source": [
    "alldata.loc[(alldata.Square < alldata.LifeSquare), ['Square', 'LifeSquare']] = \\\n",
    "alldata[alldata.Square < alldata.LifeSquare][['LifeSquare', 'Square']].values"
   ]
  },
  {
   "cell_type": "code",
   "execution_count": 8,
   "metadata": {},
   "outputs": [],
   "source": [
    "alldata.loc[alldata.Square < 13, ['Square', 'LifeSquare']] = [46, 20], [46, 25], [55, 51], [37, 30], [56, 43], [45, 36], \\\n",
    "                                                            [26, 19], [52, 29], [46, 45], [37, 35], [43, 26], [56, 50], [51, 38], \\\n",
    "                                                            [23, 18], [49, 29], [29, 19]"
   ]
  },
  {
   "cell_type": "code",
   "execution_count": 9,
   "metadata": {},
   "outputs": [],
   "source": [
    "alldata.loc[alldata['Square'] < 30, ['Rooms']] = 1"
   ]
  },
  {
   "cell_type": "code",
   "execution_count": 10,
   "metadata": {},
   "outputs": [],
   "source": [
    "alldata.loc[alldata['LifeSquare'] < 10, ['LifeSquare']] = \\\n",
    "alldata.loc[alldata['LifeSquare'] < 10, ['LifeSquare']].values * 10\n",
    "\n",
    "alldata.loc[alldata['LifeSquare'] < 10, ['LifeSquare']] = \\\n",
    "alldata.loc[alldata['LifeSquare'] < 10, ['LifeSquare']].values * 10"
   ]
  },
  {
   "cell_type": "code",
   "execution_count": 11,
   "metadata": {},
   "outputs": [],
   "source": [
    "alldata.loc[(alldata.Square < alldata.LifeSquare), ['Square', 'LifeSquare']] = \\\n",
    "alldata[alldata.Square < alldata.LifeSquare][['LifeSquare', 'Square']].values"
   ]
  },
  {
   "cell_type": "code",
   "execution_count": 12,
   "metadata": {},
   "outputs": [],
   "source": [
    "alldata.loc[alldata['Id'] == 16550, ['Square', 'LifeSquare']] = 81, 74\n",
    "alldata.loc[alldata['HouseYear'] == 4968, 'HouseYear'] = 1968\n",
    "alldata.loc[alldata['HouseYear'] == 20052011, 'HouseYear'] = 2005"
   ]
  },
  {
   "cell_type": "markdown",
   "metadata": {},
   "source": [
    "##### **СОЗДАНИЕ НОВЫХ ПРИЗНАКОВ.**\n",
    "<br>"
   ]
  },
  {
   "cell_type": "code",
   "execution_count": 13,
   "metadata": {},
   "outputs": [],
   "source": [
    "meanyear = alldata.groupby(['HouseYear', 'Rooms'], as_index = False).Square.agg({'MeanYear': 'mean'})\n",
    "meanroom = alldata.groupby(['Rooms'], as_index = False).Square.agg({'MeanRoom': 'mean'})\n",
    "\n",
    "alldata = pd.merge(alldata, meanyear, on = ['HouseYear', 'Rooms'], how = 'left')\n",
    "alldata = pd.merge(alldata, meanroom, on = ['Rooms'], how = 'left')\n",
    "\n",
    "alldata['LifeSquare'] = alldata['LifeSquare'].fillna(alldata['MeanYear'])\n",
    "\n",
    "distmeanprice = alldata.groupby(['DistrictId', 'Rooms'], as_index = False).Price.agg({'DistMeanPrice': 'mean'})\n",
    "meanprice = alldata.groupby(['Rooms'], as_index = False).Price.agg({'MeanPrice': 'mean'})\n",
    "meanprices = pd.merge(distmeanprice, meanprice, on = ['Rooms'], how = 'left')\n",
    "meanprices['DistMeanPrice'] = meanprices['DistMeanPrice'].fillna(meanprices['MeanPrice'])\n",
    "\n",
    "alldata = pd.merge(alldata, meanprices, on = ['DistrictId', 'Rooms'], how = 'left')"
   ]
  },
  {
   "cell_type": "markdown",
   "metadata": {},
   "source": [
    "##### **ПРЕОБРАЗОВАНИЕ НЕЧИСЛОВЫХ ЗНЧАНИЙ.**\n",
    "<br>"
   ]
  },
  {
   "cell_type": "code",
   "execution_count": 14,
   "metadata": {},
   "outputs": [],
   "source": [
    "alldata['Healthcare_1'] = alldata.Healthcare_1.fillna(1500)\n",
    "\n",
    "alldata['Ecology_2'] = (alldata['Ecology_2'] == 'B').astype(int)\n",
    "alldata['Ecology_3'] = (alldata['Ecology_3'] == 'B').astype(int)\n",
    "alldata['Shops_2'] = (alldata['Shops_2'] == 'B').astype(int)"
   ]
  },
  {
   "cell_type": "markdown",
   "metadata": {},
   "source": [
    "##### **РАЗДЕЛЕНИЕ ЕДИНОГО СКОРРЕКТИРОВАННОГО СЕТА НА ИСХОДНЫЕ.**\n",
    "###### *(СЛИЯНИЕ ПРОИЗВОДИЛОСЬ ДЛЯ УЛУЧШЕНИЯ ГРУППОВЫХ СТАТИСТИК)*\n",
    "<br>"
   ]
  },
  {
   "cell_type": "code",
   "execution_count": 15,
   "metadata": {},
   "outputs": [],
   "source": [
    "new_train = alldata.loc[alldata['Id'].isin(df.Id.values)]\n",
    "new_test = alldata.loc[alldata['Id'].isin(test.Id.values)].drop(columns = ['Price'])"
   ]
  },
  {
   "cell_type": "code",
   "execution_count": null,
   "metadata": {},
   "outputs": [],
   "source": []
  },
  {
   "cell_type": "markdown",
   "metadata": {},
   "source": [
    "#### II. MODEL"
   ]
  },
  {
   "cell_type": "code",
   "execution_count": 16,
   "metadata": {},
   "outputs": [],
   "source": [
    "from sklearn.model_selection import train_test_split\n",
    "from sklearn.linear_model import LinearRegression as LR\n",
    "from sklearn.ensemble import RandomForestRegressor as RF"
   ]
  },
  {
   "cell_type": "code",
   "execution_count": 17,
   "metadata": {},
   "outputs": [],
   "source": [
    "from sklearn.metrics import r2_score as r2"
   ]
  },
  {
   "cell_type": "code",
   "execution_count": 18,
   "metadata": {},
   "outputs": [],
   "source": [
    "trn, vld = train_test_split(new_train, test_size = .3, random_state = 40)"
   ]
  },
  {
   "cell_type": "code",
   "execution_count": 19,
   "metadata": {},
   "outputs": [
    {
     "data": {
      "text/plain": [
       "((7000, 24), (3000, 24))"
      ]
     },
     "execution_count": 19,
     "metadata": {},
     "output_type": "execute_result"
    }
   ],
   "source": [
    "trn.shape, vld.shape"
   ]
  },
  {
   "cell_type": "code",
   "execution_count": 20,
   "metadata": {},
   "outputs": [],
   "source": [
    "features = ['KitchenSquare', 'HouseYear', 'Square',\n",
    "            'Floor', 'HouseFloor', 'LifeSquare',\n",
    "            'Rooms', 'MeanRoom', 'MeanYear',\n",
    "            'DistMeanPrice', 'DistrictId', 'Ecology_1',\n",
    "            'Ecology_2', 'Ecology_3', 'Social_1' ,'Social_2',\n",
    "            'Social_3', 'Shops_1', 'Shops_2']"
   ]
  },
  {
   "cell_type": "code",
   "execution_count": 21,
   "metadata": {},
   "outputs": [],
   "source": [
    "lr = LR()\n",
    "rf = RF(n_estimators = 300, max_depth = 14, min_samples_leaf = 3, min_samples_split=3)"
   ]
  },
  {
   "cell_type": "markdown",
   "metadata": {},
   "source": [
    "##### **ОТБОР НАИБОЛЕЕ ЗНАЧИМЫХ ФИЧ ЖАДНЫМ АЛГОРИТМОМ.**\n",
    "<br>"
   ]
  },
  {
   "cell_type": "code",
   "execution_count": 22,
   "metadata": {},
   "outputs": [],
   "source": [
    "def r2_test(feats):\n",
    "    lr.fit(trn.loc[:, feats], trn['Price'])\n",
    "    rf.fit(trn.loc[:, feats], trn['Price'])\n",
    "    \n",
    "    pred_trn_lr = lr.predict(trn.loc[:, feats])\n",
    "    pred_vld_lr = lr.predict(vld.loc[:, feats])\n",
    "    pred_trn_rf = rf.predict(trn.loc[:, feats])\n",
    "    pred_vld_rf = rf.predict(vld.loc[:, feats])\n",
    "    \n",
    "    \n",
    "    return {'ptlr': r2(trn['Price'], pred_trn_lr),\n",
    "            'pvlr': r2(vld['Price'], pred_vld_lr),\n",
    "            'ptrf': r2(trn['Price'], pred_trn_rf),\n",
    "            'pvrf': r2(vld['Price'], pred_vld_rf)}"
   ]
  },
  {
   "cell_type": "code",
   "execution_count": 23,
   "metadata": {},
   "outputs": [
    {
     "name": "stdout",
     "output_type": "stream",
     "text": [
      "[]\n",
      "R2 train LR:    0.00447, R2 valid LR:    0.00545, R2 train RF:    0.00447, R2 valid RF:    0.00548\n",
      "['DistMeanPrice']\n",
      "R2 train LR:    0.65139, R2 valid LR:    0.63264, R2 train RF:    0.66247, R2 valid RF:    0.57713\n",
      "['DistMeanPrice', 'Square']\n",
      "R2 train LR:    0.68394, R2 valid LR:    0.66380, R2 train RF:    0.84608, R2 valid RF:    0.70307\n",
      "['DistMeanPrice', 'Square', 'MeanYear']\n",
      "R2 train LR:    0.69544, R2 valid LR:    0.67652, R2 train RF:    0.87351, R2 valid RF:    0.74305\n",
      "['DistMeanPrice', 'Square', 'MeanYear', 'HouseFloor']\n",
      "R2 train LR:    0.70351, R2 valid LR:    0.68895, R2 train RF:    0.88342, R2 valid RF:    0.75639\n",
      "['DistMeanPrice', 'Square', 'MeanYear', 'HouseFloor', 'Social_3']\n",
      "R2 train LR:    0.70351, R2 valid LR:    0.68885, R2 train RF:    0.89423, R2 valid RF:    0.76541\n",
      "['DistMeanPrice', 'Square', 'MeanYear', 'HouseFloor', 'Social_3', 'Rooms']\n",
      "R2 train LR:    0.71045, R2 valid LR:    0.69481, R2 train RF:    0.89546, R2 valid RF:    0.76649\n",
      "['DistMeanPrice', 'Square', 'MeanYear', 'HouseFloor', 'Social_3', 'Rooms', 'Social_1']\n",
      "R2 train LR:    0.71437, R2 valid LR:    0.69902, R2 train RF:    0.90011, R2 valid RF:    0.77026\n",
      "['DistMeanPrice', 'Square', 'MeanYear', 'HouseFloor', 'Social_3', 'Rooms', 'Social_1', 'MeanRoom']\n",
      "R2 train LR:    0.71553, R2 valid LR:    0.69953, R2 train RF:    0.89982, R2 valid RF:    0.76972\n",
      "['DistMeanPrice', 'Square', 'MeanYear', 'HouseFloor', 'Social_3', 'Rooms', 'Social_1', 'MeanRoom', 'HouseYear']\n",
      "R2 train LR:    0.71555, R2 valid LR:    0.69975, R2 train RF:    0.90495, R2 valid RF:    0.77183\n",
      "['DistMeanPrice', 'Square', 'MeanYear', 'HouseFloor', 'Social_3', 'Rooms', 'Social_1', 'MeanRoom', 'HouseYear', 'Floor']\n",
      "R2 train LR:    0.71927, R2 valid LR:    0.70318, R2 train RF:    0.90974, R2 valid RF:    0.77254\n",
      "['DistMeanPrice', 'Square', 'MeanYear', 'HouseFloor', 'Social_3', 'Rooms', 'Social_1', 'MeanRoom', 'HouseYear', 'Floor', 'Ecology_3']\n",
      "R2 train LR:    0.71956, R2 valid LR:    0.70289, R2 train RF:    0.90996, R2 valid RF:    0.77189\n",
      "['DistMeanPrice', 'Square', 'MeanYear', 'HouseFloor', 'Social_3', 'Rooms', 'Social_1', 'MeanRoom', 'HouseYear', 'Floor', 'Ecology_3']\n"
     ]
    }
   ],
   "source": [
    "feats = []\n",
    "f = 0\n",
    "result = 0\n",
    "while len(features) > 1:\n",
    "    flag = False\n",
    "    for i, feature in enumerate(features):\n",
    "        feats.append(features[i])\n",
    "        check_arr_r2 = r2_test(feats)\n",
    "        if check_arr_r2['pvrf'] > result:\n",
    "            result = check_arr_r2['pvrf']\n",
    "            max_index = i\n",
    "            flag = True\n",
    "        del feats[-1]\n",
    "    \n",
    "    print(f'{feats}')\n",
    "    print(f\"R2 train LR: {check_arr_r2['ptlr']:10.5f}, R2 valid LR: {check_arr_r2['pvlr']:10.5f}, R2 train RF: {check_arr_r2['ptrf']:10.5f}, R2 valid RF: {check_arr_r2['pvrf']:10.5f}\")\n",
    "   \n",
    "    if flag == False:\n",
    "        break\n",
    "    feats.append(features.pop(max_index))\n",
    "print(feats)"
   ]
  },
  {
   "cell_type": "code",
   "execution_count": null,
   "metadata": {},
   "outputs": [],
   "source": []
  },
  {
   "cell_type": "code",
   "execution_count": null,
   "metadata": {},
   "outputs": [],
   "source": []
  },
  {
   "cell_type": "code",
   "execution_count": 32,
   "metadata": {},
   "outputs": [
    {
     "data": {
      "text/plain": [
       "RandomForestRegressor(bootstrap=True, criterion='mse', max_depth=14,\n",
       "           max_features='auto', max_leaf_nodes=None,\n",
       "           min_impurity_decrease=0.0, min_impurity_split=None,\n",
       "           min_samples_leaf=3, min_samples_split=3,\n",
       "           min_weight_fraction_leaf=0.0, n_estimators=300, n_jobs=1,\n",
       "           oob_score=False, random_state=None, verbose=0, warm_start=False)"
      ]
     },
     "execution_count": 32,
     "metadata": {},
     "output_type": "execute_result"
    }
   ],
   "source": [
    "lr.fit(trn.loc[:, feats], trn['Price'])\n",
    "rf.fit(trn.loc[:, feats], trn['Price'])"
   ]
  },
  {
   "cell_type": "code",
   "execution_count": 25,
   "metadata": {},
   "outputs": [],
   "source": [
    "# feats7704 = feats\n",
    "\n",
    "# feats7722 = feats\n",
    "\n",
    "# feats"
   ]
  },
  {
   "cell_type": "code",
   "execution_count": 33,
   "metadata": {},
   "outputs": [],
   "source": [
    "pred_trn_lr = lr.predict(trn.loc[:, feats])\n",
    "pred_vld_lr = lr.predict(vld.loc[:, feats])\n",
    "\n",
    "pred_trn_rf = rf.predict(trn.loc[:, feats])\n",
    "pred_vld_rf = rf.predict(vld.loc[:, feats])"
   ]
  },
  {
   "cell_type": "code",
   "execution_count": null,
   "metadata": {},
   "outputs": [],
   "source": []
  },
  {
   "cell_type": "code",
   "execution_count": null,
   "metadata": {},
   "outputs": [],
   "source": []
  },
  {
   "cell_type": "code",
   "execution_count": null,
   "metadata": {},
   "outputs": [],
   "source": []
  },
  {
   "cell_type": "code",
   "execution_count": 34,
   "metadata": {},
   "outputs": [
    {
     "data": {
      "text/plain": [
       "0.7194142032639581"
      ]
     },
     "execution_count": 34,
     "metadata": {},
     "output_type": "execute_result"
    }
   ],
   "source": [
    "r2(trn['Price'], pred_trn_lr)"
   ]
  },
  {
   "cell_type": "code",
   "execution_count": 35,
   "metadata": {},
   "outputs": [
    {
     "data": {
      "text/plain": [
       "0.7032859037692518"
      ]
     },
     "execution_count": 35,
     "metadata": {},
     "output_type": "execute_result"
    }
   ],
   "source": [
    "r2(vld['Price'], pred_vld_lr)"
   ]
  },
  {
   "cell_type": "code",
   "execution_count": 36,
   "metadata": {},
   "outputs": [
    {
     "data": {
      "text/plain": [
       "0.9095950906672069"
      ]
     },
     "execution_count": 36,
     "metadata": {},
     "output_type": "execute_result"
    }
   ],
   "source": [
    "r2(trn['Price'], pred_trn_rf)"
   ]
  },
  {
   "cell_type": "code",
   "execution_count": 37,
   "metadata": {},
   "outputs": [
    {
     "data": {
      "text/plain": [
       "0.7720438611328462"
      ]
     },
     "execution_count": 37,
     "metadata": {},
     "output_type": "execute_result"
    }
   ],
   "source": [
    "r2(vld['Price'], pred_vld_rf)"
   ]
  },
  {
   "cell_type": "code",
   "execution_count": null,
   "metadata": {},
   "outputs": [],
   "source": []
  },
  {
   "cell_type": "code",
   "execution_count": 31,
   "metadata": {},
   "outputs": [],
   "source": [
    "new_test['Price'] = rf.predict(new_test.loc[:, feats])\n",
    "new_test[['Id','Price']].to_csv('YAkimov_prediction.csv', index = None)"
   ]
  }
 ],
 "metadata": {
  "kernelspec": {
   "display_name": "Python 3",
   "language": "python",
   "name": "python3"
  },
  "language_info": {
   "codemirror_mode": {
    "name": "ipython",
    "version": 3
   },
   "file_extension": ".py",
   "mimetype": "text/x-python",
   "name": "python",
   "nbconvert_exporter": "python",
   "pygments_lexer": "ipython3",
   "version": "3.6.5"
  }
 },
 "nbformat": 4,
 "nbformat_minor": 2
}
